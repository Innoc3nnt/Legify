{
  "nbformat": 4,
  "nbformat_minor": 0,
  "metadata": {
    "colab": {
      "provenance": [],
      "authorship_tag": "ABX9TyPOGpIQCiGlsVJP64ICWJuw"
    },
    "kernelspec": {
      "name": "python3",
      "display_name": "Python 3"
    },
    "language_info": {
      "name": "python"
    }
  },
  "cells": [
    {
      "cell_type": "code",
      "execution_count": 1,
      "metadata": {
        "id": "6j1psDhKW9ln"
      },
      "outputs": [],
      "source": [
        "from PIL import Image, ImageFilter, ImageDraw"
      ]
    },
    {
      "cell_type": "code",
      "source": [
        "h, w = 64, 64\n",
        "target_h, target_w = 1280, 1280\n",
        "target_colors_count = 5\n",
        "with Image.open('test.jpeg') as im:\n",
        "  im = im.resize((h, w))\n",
        "  im = im.convert(mode='L').filter(ImageFilter.EDGE_ENHANCE).quantize(target_colors_count)\n",
        "  # im.save(\"image1.png\")\n",
        "  out = Image.new('L', (target_h, target_w))\n",
        "  out.putpalette(im.getpalette())\n",
        "  d = ImageDraw.Draw(out)\n",
        "  for i in range(64):\n",
        "    for j in range(64):\n",
        "      d.rectangle([(i*20, j*20), (i*20+20, j*20+20)], fill=im.getpixel((i,j)))\n",
        "  out.save(\"out.png\")\n",
        "  out.close()\n",
        "  im.close()"
      ],
      "metadata": {
        "id": "ZReuZZBmXHc7"
      },
      "execution_count": 10,
      "outputs": []
    }
  ]
}